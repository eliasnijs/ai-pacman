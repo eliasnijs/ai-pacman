{
 "cells": [
  {
   "cell_type": "markdown",
   "id": "ffd84ddf",
   "metadata": {},
   "source": [
    "____\n",
    "# Pac-Man AI ~ Research Notebook\n",
    "____\n",
    "\n",
    "## Important\n",
    "\n",
    "1. All manually set hyperparamters must be configured manually in the optuna optimization step, as well as in the final training step\n",
    "___"
   ]
  },
  {
   "cell_type": "markdown",
   "id": "4316a66f",
   "metadata": {},
   "source": [
    "## 1. Dependencies"
   ]
  },
  {
   "cell_type": "code",
   "execution_count": null,
   "id": "4170bf0c",
   "metadata": {},
   "outputs": [],
   "source": [
    "import numpy as np\n",
    "import matplotlib.pyplot as plt\n",
    "%matplotlib inline\n",
    "\n",
    "import time\n",
    "import curses\n",
    "import joblib"
   ]
  },
  {
   "cell_type": "code",
   "execution_count": null,
   "id": "4bae934a",
   "metadata": {},
   "outputs": [],
   "source": [
    "from stable_baselines3 import PPO\n",
    "from stable_baselines3 import A2C\n",
    "from stable_baselines3.common.vec_env import SubprocVecEnv\n",
    "from stable_baselines3.common.env_checker import check_env\n",
    "from stable_baselines3.common.evaluation import evaluate_policy\n",
    "from stable_baselines3.common.monitor import Monitor"
   ]
  },
  {
   "cell_type": "code",
   "execution_count": null,
   "id": "4e6dc93d",
   "metadata": {},
   "outputs": [],
   "source": [
    "import optuna\n",
    "from optuna.visualization import plot_intermediate_values\n",
    "from optuna.visualization import plot_optimization_history\n",
    "from optuna.visualization import plot_param_importances"
   ]
  },
  {
   "cell_type": "code",
   "execution_count": null,
   "id": "454da53c",
   "metadata": {},
   "outputs": [],
   "source": [
    "from pacman_gymenv import PacmanEnvironment"
   ]
  },
  {
   "cell_type": "markdown",
   "id": "c25ba672",
   "metadata": {},
   "source": [
    "## General configuration"
   ]
  },
  {
   "cell_type": "code",
   "execution_count": null,
   "id": "e631133a",
   "metadata": {},
   "outputs": [],
   "source": [
    "N_CPU = 8"
   ]
  },
  {
   "cell_type": "markdown",
   "id": "59654cf7",
   "metadata": {},
   "source": [
    "## Hyperparamter Optimization with Optuna"
   ]
  },
  {
   "cell_type": "code",
   "execution_count": null,
   "id": "96834d13",
   "metadata": {},
   "outputs": [],
   "source": [
    "# config\n",
    "MAP                     = \"pacman/maps/lv1.txt\"\n",
    "PACMAN_ENV              = PacmanEnvironment(pacmanmap=MAP)\n",
    "\n",
    "                        # lower-bound, upper-bound\n",
    "TUNING_HORIZON          = [32,          5000            ]\n",
    "TUNING_MINIBATCH_RANGE  = [4,           4096            ]\n",
    "TUNING_EPOCHS           = [3,           30              ]\n",
    "TUNING_CLIP_RANGE       = [0.1,         0.3             ]\n",
    "TUNING_GAMMA            = [0.8,         0.9997          ]\n",
    "TUNING_GAE              = [0.9,         1.0             ]\n",
    "TUNING_VF               = [0.5,         1.0             ]\n",
    "TUNING_EF               = [0.0,         0.01            ]\n",
    "TUNING_LEARNINGRATE     = [5e-6,        0.003           ]\n",
    "\n",
    "TUNING_STEPS            = 32\n",
    "TUNING_TIMESTEPS        = 4096*8\n",
    "\n",
    "lvname = MAP.replace('/','_').split('.', -1)[0]"
   ]
  },
  {
   "cell_type": "code",
   "execution_count": null,
   "id": "51f83aee",
   "metadata": {},
   "outputs": [],
   "source": [
    "# optuna objective function\n",
    "def objective_ppo(trial):\n",
    "        verbose         = 0\n",
    "        seed            = 0\n",
    "        # n_steps       = trial.suggest_int(    'n_steps',              TUNING_HORIZON[0],              TUNING_HORIZON[1])\n",
    "        # batch_size    = trial.suggest_int(    'batch_size',           TUNING_MINIBATCH_RANGE[0],      TUNING_MINIBATCH_RANGE[1])\n",
    "        n_epochs        = trial.suggest_int(    'n_epochs',             TUNING_EPOCHS[0],               TUNING_EPOCHS[1])\n",
    "        clip_range      = trial.suggest_float(  'clip_range',           TUNING_CLIP_RANGE[0],           TUNING_CLIP_RANGE[1]);\n",
    "        gamma           = trial.suggest_float(  'gamma',                TUNING_GAMMA[0],                TUNING_GAMMA[1])\n",
    "        # gae_labmda    = trial.suggest_float(  'gae_lambda',           TUNING_GAE[0],                  TUNING_GAE[1])\n",
    "        # vf_coef       = trial.suggest_float(  'vf_coef',              TUNING_VF[0],                   TUNING_VF[1])\n",
    "        ent_coef        = trial.suggest_float(  'ent_coef',             TUNING_EF[0],                   TUNING_EF[1])\n",
    "        learning_rate   = trial.suggest_float(  'learning_rate',        TUNING_LEARNINGRATE[0],         TUNING_LEARNINGRATE[1])\n",
    "\n",
    "        env = SubprocVecEnv([lambda: Monitor(PACMAN_ENV) for i in range(N_CPU)])\n",
    "        model = PPO(\n",
    "                policy          = \"MlpPolicy\",\n",
    "                env             = env,\n",
    "                learning_rate   = learning_rate,\n",
    "                n_steps         = 2048,\n",
    "                batch_size      = 64,\n",
    "                n_epochs        = n_epochs,\n",
    "                gamma           = gamma,\n",
    "                gae_lambda      = 0.95,\n",
    "                clip_range      = clip_range,\n",
    "                ent_coef        = ent_coef,\n",
    "                vf_coef         = 0.5,\n",
    "                verbose         = 0,\n",
    "                seed            = 0,\n",
    "                policy_kwargs   = dict(net_arch=[64, 64])\n",
    "                )\n",
    "        model.learn(total_timesteps=TUNING_TIMESTEPS)\n",
    "\n",
    "        reward_mean, _ = evaluate_policy(model, env)\n",
    "        return reward_mean"
   ]
  },
  {
   "cell_type": "code",
   "execution_count": null,
   "id": "3dcaae5b",
   "metadata": {},
   "outputs": [],
   "source": [
    "# optimizeb\n",
    "study = optuna.create_study(direction=\"maximize\")\n",
    "study.optimize(objective_ppo, n_trials=TUNING_STEPS, gc_after_trial=True)\n",
    "studyname = f\"{lvname}_{TUNING_STEPS}_{TUNING_TIMESTEPS}_{'_'.join([s.replace('_','') for s in study.best_params.keys()])}\""
   ]
  },
  {
   "cell_type": "code",
   "execution_count": null,
   "id": "c197f081",
   "metadata": {},
   "outputs": [],
   "source": [
    "# save the study\n",
    "joblib.dump(study, f\"optuna_studies/{studyname}.pkl\")"
   ]
  },
  {
   "cell_type": "code",
   "execution_count": null,
   "id": "3cfff321",
   "metadata": {},
   "outputs": [],
   "source": [
    "study.best_params, study.best_value"
   ]
  },
  {
   "cell_type": "code",
   "execution_count": null,
   "id": "2de623ea",
   "metadata": {},
   "outputs": [],
   "source": [
    "fig = plot_optimization_history(study)\n",
    "fig.show()\n",
    "fig.write_image(f\"optuna_studies/{studyname}_optimization_hist.png\")\n",
    "fig.write_image(f\"optuna_studies/{studyname}_optimization_hist.eps\")"
   ]
  },
  {
   "cell_type": "code",
   "execution_count": null,
   "id": "d5b88e6f",
   "metadata": {},
   "outputs": [],
   "source": [
    "fig = plot_param_importances(study)\n",
    "fig.show()\n",
    "fig.write_image(f\"optuna_studies/{studyname}_param_importances.png\")\n",
    "fig.write_image(f\"optuna_studies/{studyname}_param_importances.eps\")"
   ]
  },
  {
   "cell_type": "markdown",
   "id": "97c34cd6",
   "metadata": {},
   "source": [
    "\n",
    "## Final Training"
   ]
  },
  {
   "cell_type": "code",
   "execution_count": null,
   "id": "defb8f17",
   "metadata": {},
   "outputs": [],
   "source": [
    "# config\n",
    "MAP                     = \"pacman/maps/lv1.txt\"\n",
    "PACMAN_ENV              = PacmanEnvironment(pacmanmap=MAP)\n",
    "OPTUNA_STUDY_PATH       = \"optuna_studies/pacman_maps_lv2_32_8192_nepochs_cliprange_gamma_entcoef_learningrate.pkl\"\n",
    "MODEL_TIMESTEPS         = 4096*32*8\n",
    "\n",
    "optuna_study            = joblib.load(OPTUNA_STUDY_PATH)\n",
    "lvname                  = MAP.replace('/','_').split('.', -1)[0]"
   ]
  },
  {
   "cell_type": "code",
   "execution_count": null,
   "id": "da409b8b",
   "metadata": {},
   "outputs": [],
   "source": [
    "# train\n",
    "env = SubprocVecEnv([lambda: Monitor(PACMAN_ENV) for i in range(N_CPU)])\n",
    "model = PPO(\n",
    "    policy          = \"MlpPolicy\",\n",
    "    env             = env,\n",
    "    batch_size      = 64,\n",
    "    n_steps         = 2048,\n",
    "    gae_lambda      = 0.95,\n",
    "    vf_coef         = 0.5,\n",
    "    verbose         = 0,\n",
    "    seed            = 0,\n",
    "    **optuna_study.best_params,\n",
    "    policy_kwargs   = dict(net_arch=[64, 64])\n",
    ")\n",
    "model.learn(MODEL_TIMESTEPS, progress_bar=True)"
   ]
  },
  {
   "cell_type": "code",
   "execution_count": null,
   "id": "ef663734",
   "metadata": {},
   "outputs": [],
   "source": [
    "model.save(f\"models/{lvname}_{MODEL_TIMESTEPS}_{OPTUNA_STUDY_PATH.replace('/','_').split('.', -1)[0]}\")"
   ]
  },
  {
   "cell_type": "markdown",
   "id": "2bf1a1c8",
   "metadata": {},
   "source": [
    "## Analysis"
   ]
  },
  {
   "cell_type": "code",
   "execution_count": null,
   "id": "c8c0ecec",
   "metadata": {},
   "outputs": [],
   "source": [
    "MAP        = \"pacman/maps/lv1.txt\"\n",
    "MODEL_PATH = \"models/pacman_maps_lv1_131072_optuna_studies_pacman_maps_lv1_32_8192_nepochs_cliprange_gamma_entcoef_learningrate.zip\"\n",
    "PACMAN_ENV = PacmanEnvironment(pacmanmap=MAP)\n",
    "\n",
    "modelname = MODEL_PATH.replace('/','_').split('.',-1)[0]\n",
    "lvname = MAP.replace('/','_').split('.', -1)[0]\n",
    "model  = PPO.load(MODEL_PATH)"
   ]
  },
  {
   "cell_type": "code",
   "execution_count": null,
   "id": "55603a4b",
   "metadata": {},
   "outputs": [],
   "source": [
    "# function to make plotting easier\n",
    "def plot(path:str, title:str, xname:str, yname:str, ax) -> None:\n",
    "    ax.set_axisbelow(True)\n",
    "    ax.yaxis.grid(color='silver')\n",
    "    plt.subplots_adjust(bottom=0.15)\n",
    "    plt.xlabel(xname) \n",
    "    plt.ylabel(yname)\n",
    "    plt.title(title)\n",
    "    plt.legend()\n",
    "    plt.savefig(f\"{path}.eps\", format='eps')\n",
    "    plt.savefig(f\"{path}.png\", format='png')\n",
    "    plt.show()"
   ]
  },
  {
   "cell_type": "code",
   "execution_count": null,
   "id": "c5cdd390",
   "metadata": {},
   "outputs": [],
   "source": [
    "data = []\n",
    "pacmanenv = PACMAN_ENV\n",
    "for i in range(512):\n",
    "    finished = False\n",
    "    framecnt = 0\n",
    "    obs = pacmanenv.reset()\n",
    "    while not finished:\n",
    "        framecnt += 1\n",
    "        action, _states = model.predict(obs)\n",
    "        obs, rewards, finished, info = pacmanenv.step(action)\n",
    "    data.append([1 if pacmanenv.game.pelletcount==0 else 0, pacmanenv.game.score, framecnt])"
   ]
  },
  {
   "cell_type": "code",
   "execution_count": null,
   "id": "8bf2aab4",
   "metadata": {},
   "outputs": [],
   "source": [
    "# only run this if you want to use data from a file instead of a model\n",
    "\n",
    "#data = np.genfromtxt(\n",
    "#   \"saved_data/runlv3_2.txt\", delimiter=\", \", dtype=np.int16)\n",
    "#lvname = \"pacman_maps_lv3.txt\"\n",
    "#modelname = \"lv3_2\""
   ]
  },
  {
   "cell_type": "code",
   "execution_count": null,
   "id": "29a765d2",
   "metadata": {},
   "outputs": [],
   "source": [
    "import os\n",
    "\n",
    "folder = f\"./analysis/{modelname}\" \n",
    "if not os.path.exists(folder):\n",
    "    os.mkdir(folder)\n",
    "folder"
   ]
  },
  {
   "cell_type": "code",
   "execution_count": null,
   "id": "a059dddd",
   "metadata": {},
   "outputs": [],
   "source": [
    "data = np.array(data)\n",
    "data[:8], \"...\", data[-8:]"
   ]
  },
  {
   "cell_type": "code",
   "execution_count": null,
   "id": "1dddcab4",
   "metadata": {},
   "outputs": [],
   "source": [
    "# calculate win percentage\n",
    "w  = data[:,0]\n",
    "wc = np.count_nonzero(w == 1)\n",
    "wp = wc/len(w)\n",
    "print(f\"   win percentage: {wp*100:20}%\")"
   ]
  },
  {
   "cell_type": "code",
   "execution_count": null,
   "id": "ab63823b",
   "metadata": {},
   "outputs": [],
   "source": [
    "# calculate score data\n",
    "s     = data[:,1]\n",
    "s_mn  = np.mean(s)\n",
    "s_std = np.std(s)\n",
    "s_med = np.median(s)\n",
    "print(f\"  score mean:      {s_mn:20}\")\n",
    "print(f\"  score std:       {s_std:20.2f}\")\n",
    "print(f\"  score median:    {s_med:20}\")"
   ]
  },
  {
   "cell_type": "code",
   "execution_count": null,
   "id": "e0e9cc1b",
   "metadata": {},
   "outputs": [],
   "source": [
    "# calculate time data (counted in steps taken)\n",
    "t     = data[:,2]\n",
    "t_mn  = np.mean(t)\n",
    "t_std = np.std(t)\n",
    "t_med = np.median(s)\n",
    "print(f\"  time mean:       {t_mn:20}\")\n",
    "print(f\"  time std:        {t_std:20.2f}\")\n",
    "print(f\"  time median:     {t_med:20}\")"
   ]
  },
  {
   "cell_type": "code",
   "execution_count": null,
   "id": "f045f3e3",
   "metadata": {},
   "outputs": [],
   "source": [
    "f = open(f\"{folder}/stats.txt\", \"w\")\n",
    "f.write(f\"   win percentage: {wp*100:20}%\\n\")\n",
    "f.write(f\"  score mean:      {s_mn:20}\\n\")\n",
    "f.write(f\"  score std:       {s_std:20.2f}\\n\")\n",
    "f.write(f\"  score median:    {s_med:20}\\n\")\n",
    "f.write(f\"  time mean:       {t_mn:20}\\n\")\n",
    "f.write(f\"  time std:        {t_std:20.2f}\\n\")\n",
    "f.write(f\"  time median:     {t_med:20}\\n\")\n",
    "f.close()"
   ]
  },
  {
   "cell_type": "code",
   "execution_count": null,
   "id": "638a8b77",
   "metadata": {},
   "outputs": [],
   "source": [
    "fig,ax = plt.subplots()\n",
    "plt.plot(s, label=f\"{lvname}\")\n",
    "plt.plot(np.sort(s), label=f\"{lvname} sorted\")\n",
    "plot(f\"{folder}/score\", \"score\", \"run\", \"score\", ax)"
   ]
  },
  {
   "cell_type": "code",
   "execution_count": null,
   "id": "78b86703",
   "metadata": {},
   "outputs": [],
   "source": [
    "fig,ax = plt.subplots()\n",
    "plt.plot(t, label=f\"{lvname}\")\n",
    "plt.plot(np.sort(t), label=f\"{lvname} sorted\")\n",
    "plot(f\"{folder}/time\", \"survival time\", \"run\", \"time (steps taken)\", ax)"
   ]
  },
  {
   "cell_type": "code",
   "execution_count": null,
   "id": "c0fdc964",
   "metadata": {},
   "outputs": [],
   "source": [
    "fig,ax = plt.subplots()\n",
    "plt.plot(s/t, label=f\"{lvname}\")\n",
    "plt.plot(np.sort(s/t), label=f\"{lvname} sorted\")\n",
    "plot(f\"{folder}/score_per_step\", \"score per step for each run\", \"run\", \"score/step\", ax)"
   ]
  },
  {
   "cell_type": "code",
   "execution_count": null,
   "id": "80593f82",
   "metadata": {},
   "outputs": [],
   "source": [
    "t_to_s = np.array(sorted(zip(t, s), key=lambda x:x[0]))\n",
    "\n",
    "fig,ax = plt.subplots()\n",
    "plt.plot(t_to_s[:,0]/8, t_to_s[:,1], label=f\"{lvname}\")\n",
    "plot(f\"{folder}/time_to_score\", \"time mapped to score\", \"time (s)\", \"score\", ax)"
   ]
  }
 ],
 "metadata": {
  "kernelspec": {
   "display_name": "Python 3.9.5 64-bit",
   "language": "python",
   "name": "python3"
  },
  "language_info": {
   "codemirror_mode": {
    "name": "ipython",
    "version": 3
   },
   "file_extension": ".py",
   "mimetype": "text/x-python",
   "name": "python",
   "nbconvert_exporter": "python",
   "pygments_lexer": "ipython3",
   "version": "3.9.5"
  },
  "vscode": {
   "interpreter": {
    "hash": "f9f85f796d01129d0dd105a088854619f454435301f6ffec2fea96ecbd9be4ac"
   }
  }
 },
 "nbformat": 4,
 "nbformat_minor": 5
}
