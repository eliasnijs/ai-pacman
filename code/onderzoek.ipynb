{
 "cells": [
  {
   "cell_type": "code",
   "execution_count": 75,
   "metadata": {},
   "outputs": [],
   "source": [
    "import numpy as np\n",
    "\n",
    "import gym\n",
    "from gym import spaces\n",
    "\n",
    "from pacman.pacman import *\n",
    "import onderzoek as oz\n",
    "\n",
    "from stable_baselines3 import PPO\n",
    "from stable_baselines3.common.env_util import make_vec_env\n",
    "from stable_baselines.common.env_checker import check_env\n",
    "import importlib\n"
   ]
  },
  {
   "cell_type": "code",
   "execution_count": 76,
   "metadata": {},
   "outputs": [
    {
     "data": {
      "text/plain": [
       "<module 'onderzoek' from '/home/eliasnijs/university/ai/ai-pacman/code/onderzoek.py'>"
      ]
     },
     "execution_count": 76,
     "metadata": {},
     "output_type": "execute_result"
    }
   ],
   "source": []
  },
  {
   "cell_type": "code",
   "execution_count": 92,
   "metadata": {},
   "outputs": [
    {
     "name": "stdout",
     "output_type": "stream",
     "text": [
      "\u001b[H\u001b[2J\u001b[?1l\u001b>"
     ]
    },
    {
     "ename": "error",
     "evalue": "nocbreak() returned ERR",
     "output_type": "error",
     "traceback": [
      "\u001b[0;31m---------------------------------------------------------------------------\u001b[0m",
      "\u001b[0;31merror\u001b[0m                                     Traceback (most recent call last)",
      "File \u001b[0;32m/usr/lib/python3.9/curses/__init__.py:78\u001b[0m, in \u001b[0;36mwrapper\u001b[0;34m(func, *args, **kwds)\u001b[0m\n\u001b[1;32m     77\u001b[0m noecho()\n\u001b[0;32m---> 78\u001b[0m cbreak()\n\u001b[1;32m     80\u001b[0m \u001b[39m# In keypad mode, escape sequences for special keys\u001b[39;00m\n\u001b[1;32m     81\u001b[0m \u001b[39m# (like the cursor keys) will be interpreted and\u001b[39;00m\n\u001b[1;32m     82\u001b[0m \u001b[39m# a special value like curses.KEY_LEFT will be returned\u001b[39;00m\n",
      "\u001b[0;31merror\u001b[0m: cbreak() returned ERR",
      "\nDuring handling of the above exception, another exception occurred:\n",
      "\u001b[0;31merror\u001b[0m                                     Traceback (most recent call last)",
      "\u001b[1;32m/home/eliasnijs/university/ai/ai-pacman/code/onderzoek.ipynb Cell 3\u001b[0m in \u001b[0;36m<module>\u001b[0;34m\u001b[0m\n\u001b[1;32m     <a href='vscode-notebook-cell:/home/eliasnijs/university/ai/ai-pacman/code/onderzoek.ipynb#X64sZmlsZQ%3D%3D?line=16'>17</a>\u001b[0m         \u001b[39mif\u001b[39;00m done:\n\u001b[1;32m     <a href='vscode-notebook-cell:/home/eliasnijs/university/ai/ai-pacman/code/onderzoek.ipynb#X64sZmlsZQ%3D%3D?line=17'>18</a>\u001b[0m             obs \u001b[39m=\u001b[39m env\u001b[39m.\u001b[39mreset()\n\u001b[0;32m---> <a href='vscode-notebook-cell:/home/eliasnijs/university/ai/ai-pacman/code/onderzoek.ipynb#X64sZmlsZQ%3D%3D?line=19'>20</a>\u001b[0m curses\u001b[39m.\u001b[39;49mwrapper(main)\n",
      "File \u001b[0;32m/usr/lib/python3.9/curses/__init__.py:100\u001b[0m, in \u001b[0;36mwrapper\u001b[0;34m(func, *args, **kwds)\u001b[0m\n\u001b[1;32m     98\u001b[0m stdscr\u001b[39m.\u001b[39mkeypad(\u001b[39m0\u001b[39m)\n\u001b[1;32m     99\u001b[0m echo()\n\u001b[0;32m--> 100\u001b[0m nocbreak()\n\u001b[1;32m    101\u001b[0m endwin()\n",
      "\u001b[0;31merror\u001b[0m: nocbreak() returned ERR"
     ]
    }
   ],
   "source": [
    "importlib.reload(oz)\n",
    "from stable_baselines3 import A2C\n",
    "\n",
    "def main(stdscr):\n",
    "    env = oz.pacmanEnv(stdscr=stdscr)\n",
    "    check_env(env)\n",
    "    # env=make_vec_env(lambda: env, n_envs=1)\n",
    "\n",
    "    model = A2C(\"MlpPolicy\", env, verbose=1)\n",
    "    model.learn(total_timesteps=10)\n",
    "\n",
    "    obs = env.reset()   \n",
    "    for i in range(1000):\n",
    "        action, _state = model.predict(obs, deterministic=True)\n",
    "        obs, reward, done, info = env.step(action)\n",
    "        env.render(mode='ascii')\n",
    "        if done:\n",
    "            obs = env.reset()\n",
    "\n",
    "curses.wrapper(main)"
   ]
  },
  {
   "cell_type": "code",
   "execution_count": null,
   "metadata": {},
   "outputs": [],
   "source": []
  }
 ],
 "metadata": {
  "kernelspec": {
   "display_name": "Python 3.9.5 64-bit",
   "language": "python",
   "name": "python3"
  },
  "language_info": {
   "codemirror_mode": {
    "name": "ipython",
    "version": 3
   },
   "file_extension": ".py",
   "mimetype": "text/x-python",
   "name": "python",
   "nbconvert_exporter": "python",
   "pygments_lexer": "ipython3",
   "version": "3.9.5"
  },
  "orig_nbformat": 4,
  "vscode": {
   "interpreter": {
    "hash": "f9f85f796d01129d0dd105a088854619f454435301f6ffec2fea96ecbd9be4ac"
   }
  }
 },
 "nbformat": 4,
 "nbformat_minor": 2
}
